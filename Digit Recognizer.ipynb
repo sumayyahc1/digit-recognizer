{
 "cells": [
  {
   "cell_type": "markdown",
   "id": "8d33bc5a",
   "metadata": {},
   "source": [
    "# Recognizing handwritten digits using CNN"
   ]
  },
  {
   "cell_type": "markdown",
   "id": "db279e48",
   "metadata": {},
   "source": [
    "Dataset is downloaded from Kaggle. Load train and test data using pandas."
   ]
  },
  {
   "cell_type": "code",
   "execution_count": 42,
   "id": "bd41a89e",
   "metadata": {},
   "outputs": [
    {
     "data": {
      "text/html": [
       "<div>\n",
       "<style scoped>\n",
       "    .dataframe tbody tr th:only-of-type {\n",
       "        vertical-align: middle;\n",
       "    }\n",
       "\n",
       "    .dataframe tbody tr th {\n",
       "        vertical-align: top;\n",
       "    }\n",
       "\n",
       "    .dataframe thead th {\n",
       "        text-align: right;\n",
       "    }\n",
       "</style>\n",
       "<table border=\"1\" class=\"dataframe\">\n",
       "  <thead>\n",
       "    <tr style=\"text-align: right;\">\n",
       "      <th></th>\n",
       "      <th>label</th>\n",
       "      <th>pixel0</th>\n",
       "      <th>pixel1</th>\n",
       "      <th>pixel2</th>\n",
       "      <th>pixel3</th>\n",
       "      <th>pixel4</th>\n",
       "      <th>pixel5</th>\n",
       "      <th>pixel6</th>\n",
       "      <th>pixel7</th>\n",
       "      <th>pixel8</th>\n",
       "      <th>...</th>\n",
       "      <th>pixel774</th>\n",
       "      <th>pixel775</th>\n",
       "      <th>pixel776</th>\n",
       "      <th>pixel777</th>\n",
       "      <th>pixel778</th>\n",
       "      <th>pixel779</th>\n",
       "      <th>pixel780</th>\n",
       "      <th>pixel781</th>\n",
       "      <th>pixel782</th>\n",
       "      <th>pixel783</th>\n",
       "    </tr>\n",
       "  </thead>\n",
       "  <tbody>\n",
       "    <tr>\n",
       "      <th>0</th>\n",
       "      <td>1</td>\n",
       "      <td>0</td>\n",
       "      <td>0</td>\n",
       "      <td>0</td>\n",
       "      <td>0</td>\n",
       "      <td>0</td>\n",
       "      <td>0</td>\n",
       "      <td>0</td>\n",
       "      <td>0</td>\n",
       "      <td>0</td>\n",
       "      <td>...</td>\n",
       "      <td>0</td>\n",
       "      <td>0</td>\n",
       "      <td>0</td>\n",
       "      <td>0</td>\n",
       "      <td>0</td>\n",
       "      <td>0</td>\n",
       "      <td>0</td>\n",
       "      <td>0</td>\n",
       "      <td>0</td>\n",
       "      <td>0</td>\n",
       "    </tr>\n",
       "    <tr>\n",
       "      <th>1</th>\n",
       "      <td>0</td>\n",
       "      <td>0</td>\n",
       "      <td>0</td>\n",
       "      <td>0</td>\n",
       "      <td>0</td>\n",
       "      <td>0</td>\n",
       "      <td>0</td>\n",
       "      <td>0</td>\n",
       "      <td>0</td>\n",
       "      <td>0</td>\n",
       "      <td>...</td>\n",
       "      <td>0</td>\n",
       "      <td>0</td>\n",
       "      <td>0</td>\n",
       "      <td>0</td>\n",
       "      <td>0</td>\n",
       "      <td>0</td>\n",
       "      <td>0</td>\n",
       "      <td>0</td>\n",
       "      <td>0</td>\n",
       "      <td>0</td>\n",
       "    </tr>\n",
       "    <tr>\n",
       "      <th>2</th>\n",
       "      <td>1</td>\n",
       "      <td>0</td>\n",
       "      <td>0</td>\n",
       "      <td>0</td>\n",
       "      <td>0</td>\n",
       "      <td>0</td>\n",
       "      <td>0</td>\n",
       "      <td>0</td>\n",
       "      <td>0</td>\n",
       "      <td>0</td>\n",
       "      <td>...</td>\n",
       "      <td>0</td>\n",
       "      <td>0</td>\n",
       "      <td>0</td>\n",
       "      <td>0</td>\n",
       "      <td>0</td>\n",
       "      <td>0</td>\n",
       "      <td>0</td>\n",
       "      <td>0</td>\n",
       "      <td>0</td>\n",
       "      <td>0</td>\n",
       "    </tr>\n",
       "    <tr>\n",
       "      <th>3</th>\n",
       "      <td>4</td>\n",
       "      <td>0</td>\n",
       "      <td>0</td>\n",
       "      <td>0</td>\n",
       "      <td>0</td>\n",
       "      <td>0</td>\n",
       "      <td>0</td>\n",
       "      <td>0</td>\n",
       "      <td>0</td>\n",
       "      <td>0</td>\n",
       "      <td>...</td>\n",
       "      <td>0</td>\n",
       "      <td>0</td>\n",
       "      <td>0</td>\n",
       "      <td>0</td>\n",
       "      <td>0</td>\n",
       "      <td>0</td>\n",
       "      <td>0</td>\n",
       "      <td>0</td>\n",
       "      <td>0</td>\n",
       "      <td>0</td>\n",
       "    </tr>\n",
       "    <tr>\n",
       "      <th>4</th>\n",
       "      <td>0</td>\n",
       "      <td>0</td>\n",
       "      <td>0</td>\n",
       "      <td>0</td>\n",
       "      <td>0</td>\n",
       "      <td>0</td>\n",
       "      <td>0</td>\n",
       "      <td>0</td>\n",
       "      <td>0</td>\n",
       "      <td>0</td>\n",
       "      <td>...</td>\n",
       "      <td>0</td>\n",
       "      <td>0</td>\n",
       "      <td>0</td>\n",
       "      <td>0</td>\n",
       "      <td>0</td>\n",
       "      <td>0</td>\n",
       "      <td>0</td>\n",
       "      <td>0</td>\n",
       "      <td>0</td>\n",
       "      <td>0</td>\n",
       "    </tr>\n",
       "  </tbody>\n",
       "</table>\n",
       "<p>5 rows × 785 columns</p>\n",
       "</div>"
      ],
      "text/plain": [
       "   label  pixel0  pixel1  pixel2  pixel3  pixel4  pixel5  pixel6  pixel7  \\\n",
       "0      1       0       0       0       0       0       0       0       0   \n",
       "1      0       0       0       0       0       0       0       0       0   \n",
       "2      1       0       0       0       0       0       0       0       0   \n",
       "3      4       0       0       0       0       0       0       0       0   \n",
       "4      0       0       0       0       0       0       0       0       0   \n",
       "\n",
       "   pixel8  ...  pixel774  pixel775  pixel776  pixel777  pixel778  pixel779  \\\n",
       "0       0  ...         0         0         0         0         0         0   \n",
       "1       0  ...         0         0         0         0         0         0   \n",
       "2       0  ...         0         0         0         0         0         0   \n",
       "3       0  ...         0         0         0         0         0         0   \n",
       "4       0  ...         0         0         0         0         0         0   \n",
       "\n",
       "   pixel780  pixel781  pixel782  pixel783  \n",
       "0         0         0         0         0  \n",
       "1         0         0         0         0  \n",
       "2         0         0         0         0  \n",
       "3         0         0         0         0  \n",
       "4         0         0         0         0  \n",
       "\n",
       "[5 rows x 785 columns]"
      ]
     },
     "execution_count": 42,
     "metadata": {},
     "output_type": "execute_result"
    }
   ],
   "source": [
    "import pandas as pd\n",
    "\n",
    "data = pd.read_csv(\"digit-recognizer/train.csv\")\n",
    "test_X = pd.read_csv(\"digit-recognizer/test.csv\")\n",
    "data.head()"
   ]
  },
  {
   "cell_type": "code",
   "execution_count": 43,
   "id": "74bb54f3",
   "metadata": {},
   "outputs": [
    {
     "data": {
      "text/html": [
       "<div>\n",
       "<style scoped>\n",
       "    .dataframe tbody tr th:only-of-type {\n",
       "        vertical-align: middle;\n",
       "    }\n",
       "\n",
       "    .dataframe tbody tr th {\n",
       "        vertical-align: top;\n",
       "    }\n",
       "\n",
       "    .dataframe thead th {\n",
       "        text-align: right;\n",
       "    }\n",
       "</style>\n",
       "<table border=\"1\" class=\"dataframe\">\n",
       "  <thead>\n",
       "    <tr style=\"text-align: right;\">\n",
       "      <th></th>\n",
       "      <th>pixel0</th>\n",
       "      <th>pixel1</th>\n",
       "      <th>pixel2</th>\n",
       "      <th>pixel3</th>\n",
       "      <th>pixel4</th>\n",
       "      <th>pixel5</th>\n",
       "      <th>pixel6</th>\n",
       "      <th>pixel7</th>\n",
       "      <th>pixel8</th>\n",
       "      <th>pixel9</th>\n",
       "      <th>...</th>\n",
       "      <th>pixel774</th>\n",
       "      <th>pixel775</th>\n",
       "      <th>pixel776</th>\n",
       "      <th>pixel777</th>\n",
       "      <th>pixel778</th>\n",
       "      <th>pixel779</th>\n",
       "      <th>pixel780</th>\n",
       "      <th>pixel781</th>\n",
       "      <th>pixel782</th>\n",
       "      <th>pixel783</th>\n",
       "    </tr>\n",
       "  </thead>\n",
       "  <tbody>\n",
       "    <tr>\n",
       "      <th>0</th>\n",
       "      <td>0</td>\n",
       "      <td>0</td>\n",
       "      <td>0</td>\n",
       "      <td>0</td>\n",
       "      <td>0</td>\n",
       "      <td>0</td>\n",
       "      <td>0</td>\n",
       "      <td>0</td>\n",
       "      <td>0</td>\n",
       "      <td>0</td>\n",
       "      <td>...</td>\n",
       "      <td>0</td>\n",
       "      <td>0</td>\n",
       "      <td>0</td>\n",
       "      <td>0</td>\n",
       "      <td>0</td>\n",
       "      <td>0</td>\n",
       "      <td>0</td>\n",
       "      <td>0</td>\n",
       "      <td>0</td>\n",
       "      <td>0</td>\n",
       "    </tr>\n",
       "    <tr>\n",
       "      <th>1</th>\n",
       "      <td>0</td>\n",
       "      <td>0</td>\n",
       "      <td>0</td>\n",
       "      <td>0</td>\n",
       "      <td>0</td>\n",
       "      <td>0</td>\n",
       "      <td>0</td>\n",
       "      <td>0</td>\n",
       "      <td>0</td>\n",
       "      <td>0</td>\n",
       "      <td>...</td>\n",
       "      <td>0</td>\n",
       "      <td>0</td>\n",
       "      <td>0</td>\n",
       "      <td>0</td>\n",
       "      <td>0</td>\n",
       "      <td>0</td>\n",
       "      <td>0</td>\n",
       "      <td>0</td>\n",
       "      <td>0</td>\n",
       "      <td>0</td>\n",
       "    </tr>\n",
       "    <tr>\n",
       "      <th>2</th>\n",
       "      <td>0</td>\n",
       "      <td>0</td>\n",
       "      <td>0</td>\n",
       "      <td>0</td>\n",
       "      <td>0</td>\n",
       "      <td>0</td>\n",
       "      <td>0</td>\n",
       "      <td>0</td>\n",
       "      <td>0</td>\n",
       "      <td>0</td>\n",
       "      <td>...</td>\n",
       "      <td>0</td>\n",
       "      <td>0</td>\n",
       "      <td>0</td>\n",
       "      <td>0</td>\n",
       "      <td>0</td>\n",
       "      <td>0</td>\n",
       "      <td>0</td>\n",
       "      <td>0</td>\n",
       "      <td>0</td>\n",
       "      <td>0</td>\n",
       "    </tr>\n",
       "    <tr>\n",
       "      <th>3</th>\n",
       "      <td>0</td>\n",
       "      <td>0</td>\n",
       "      <td>0</td>\n",
       "      <td>0</td>\n",
       "      <td>0</td>\n",
       "      <td>0</td>\n",
       "      <td>0</td>\n",
       "      <td>0</td>\n",
       "      <td>0</td>\n",
       "      <td>0</td>\n",
       "      <td>...</td>\n",
       "      <td>0</td>\n",
       "      <td>0</td>\n",
       "      <td>0</td>\n",
       "      <td>0</td>\n",
       "      <td>0</td>\n",
       "      <td>0</td>\n",
       "      <td>0</td>\n",
       "      <td>0</td>\n",
       "      <td>0</td>\n",
       "      <td>0</td>\n",
       "    </tr>\n",
       "    <tr>\n",
       "      <th>4</th>\n",
       "      <td>0</td>\n",
       "      <td>0</td>\n",
       "      <td>0</td>\n",
       "      <td>0</td>\n",
       "      <td>0</td>\n",
       "      <td>0</td>\n",
       "      <td>0</td>\n",
       "      <td>0</td>\n",
       "      <td>0</td>\n",
       "      <td>0</td>\n",
       "      <td>...</td>\n",
       "      <td>0</td>\n",
       "      <td>0</td>\n",
       "      <td>0</td>\n",
       "      <td>0</td>\n",
       "      <td>0</td>\n",
       "      <td>0</td>\n",
       "      <td>0</td>\n",
       "      <td>0</td>\n",
       "      <td>0</td>\n",
       "      <td>0</td>\n",
       "    </tr>\n",
       "  </tbody>\n",
       "</table>\n",
       "<p>5 rows × 784 columns</p>\n",
       "</div>"
      ],
      "text/plain": [
       "   pixel0  pixel1  pixel2  pixel3  pixel4  pixel5  pixel6  pixel7  pixel8  \\\n",
       "0       0       0       0       0       0       0       0       0       0   \n",
       "1       0       0       0       0       0       0       0       0       0   \n",
       "2       0       0       0       0       0       0       0       0       0   \n",
       "3       0       0       0       0       0       0       0       0       0   \n",
       "4       0       0       0       0       0       0       0       0       0   \n",
       "\n",
       "   pixel9  ...  pixel774  pixel775  pixel776  pixel777  pixel778  pixel779  \\\n",
       "0       0  ...         0         0         0         0         0         0   \n",
       "1       0  ...         0         0         0         0         0         0   \n",
       "2       0  ...         0         0         0         0         0         0   \n",
       "3       0  ...         0         0         0         0         0         0   \n",
       "4       0  ...         0         0         0         0         0         0   \n",
       "\n",
       "   pixel780  pixel781  pixel782  pixel783  \n",
       "0         0         0         0         0  \n",
       "1         0         0         0         0  \n",
       "2         0         0         0         0  \n",
       "3         0         0         0         0  \n",
       "4         0         0         0         0  \n",
       "\n",
       "[5 rows x 784 columns]"
      ]
     },
     "execution_count": 43,
     "metadata": {},
     "output_type": "execute_result"
    }
   ],
   "source": [
    "test_X.head()"
   ]
  },
  {
   "cell_type": "markdown",
   "id": "023889ff",
   "metadata": {},
   "source": [
    "Check for missing values."
   ]
  },
  {
   "cell_type": "code",
   "execution_count": 44,
   "id": "8de670c9",
   "metadata": {},
   "outputs": [
    {
     "data": {
      "text/plain": [
       "[]"
      ]
     },
     "execution_count": 44,
     "metadata": {},
     "output_type": "execute_result"
    }
   ],
   "source": [
    "cols_with_missing = [col for col in data.columns if \n",
    "                    data[col].isnull().any()]\n",
    "cols_with_missing"
   ]
  },
  {
   "cell_type": "code",
   "execution_count": 45,
   "id": "71d3ee8a",
   "metadata": {},
   "outputs": [
    {
     "data": {
      "text/plain": [
       "[]"
      ]
     },
     "execution_count": 45,
     "metadata": {},
     "output_type": "execute_result"
    }
   ],
   "source": [
    "test_cols_with_missing = [col for col in test_X.columns if \n",
    "                         test_X[col].isnull().any()]\n",
    "test_cols_with_missing"
   ]
  },
  {
   "cell_type": "markdown",
   "id": "3666f204",
   "metadata": {},
   "source": [
    "No missing values.\n",
    "Separate target from predictors and spilt into training and validation datasets."
   ]
  },
  {
   "cell_type": "code",
   "execution_count": 46,
   "id": "732c61a2",
   "metadata": {},
   "outputs": [],
   "source": [
    "from sklearn.model_selection import train_test_split\n",
    "\n",
    "X = data.drop(['label'], axis=1)\n",
    "y = data['label']\n",
    "\n",
    "train_X, valid_X, train_y, valid_y = train_test_split(X, y, test_size=0.2, train_size=0.8, random_state=4)"
   ]
  },
  {
   "cell_type": "markdown",
   "id": "07d91a50",
   "metadata": {},
   "source": [
    "Normalize data."
   ]
  },
  {
   "cell_type": "code",
   "execution_count": 47,
   "id": "73f7b277",
   "metadata": {},
   "outputs": [],
   "source": [
    "X = X / 255\n",
    "test_X = test_X /255"
   ]
  },
  {
   "cell_type": "markdown",
   "id": "c71f59ca",
   "metadata": {},
   "source": [
    "Reshape image data to 3d so that it is compatible with CNN."
   ]
  },
  {
   "cell_type": "code",
   "execution_count": 50,
   "id": "84d708ca",
   "metadata": {},
   "outputs": [],
   "source": [
    "X_3d = X.values.reshape(-1,28,28,1)\n",
    "test_X_3d = test_X.values.reshape(-1,28,28,1)"
   ]
  },
  {
   "cell_type": "markdown",
   "id": "14e1b671",
   "metadata": {},
   "source": [
    "Visualize the pixel data of the first few rows."
   ]
  },
  {
   "cell_type": "code",
   "execution_count": 53,
   "id": "82f92898",
   "metadata": {
    "scrolled": true
   },
   "outputs": [
    {
     "data": {
      "image/png": "[encoded data removed]",
      "text/plain": [
       "<Figure size 864x864 with 16 Axes>"
      ]
     },
     "metadata": {
      "needs_background": "light"
     },
     "output_type": "display_data"
    }
   ],
   "source": [
    "import matplotlib.pyplot as plt\n",
    "\n",
    "fig, axes = plt.subplots(nrows=4, ncols=4, sharex=True, sharey=True, figsize=(12, 12))\n",
    "for i in range(16):\n",
    "    ax = axes[i // 4, i % 4]\n",
    "    ax.imshow(X_3d[i][:,:,0], cmap=plt.cm.gray)\n",
    "    ax.axis('off')\n",
    "plt.show()"
   ]
  },
  {
   "cell_type": "markdown",
   "id": "dedfa66d",
   "metadata": {},
   "source": [
    "Split data into training and validation sets"
   ]
  },
  {
   "cell_type": "code",
   "execution_count": 55,
   "id": "9a23c67f",
   "metadata": {},
   "outputs": [],
   "source": [
    "train_X, valid_X, train_y, valid_y = train_test_split(X_3d, y, test_size=0.2, train_size=0.8, random_state=4)"
   ]
  },
  {
   "cell_type": "markdown",
   "id": "431c3b4a",
   "metadata": {},
   "source": [
    "### Model\n",
    "\n",
    "Creating CNN with 3 Conv2D layers followed by MaxPooling2D and Dropout layers."
   ]
  },
  {
   "cell_type": "code",
   "execution_count": 57,
   "id": "961934ea",
   "metadata": {},
   "outputs": [],
   "source": [
    "from tensorflow.keras import layers, models\n",
    "\n",
    "model = models.Sequential([\n",
    "    layers.Conv2D(32, (3, 3), activation='relu', input_shape=(28, 28, 1)),\n",
    "    layers.MaxPooling2D((2, 2)),\n",
    "    layers.Dropout(0.3),\n",
    "    layers.Conv2D(64, (3, 3), activation='relu'),\n",
    "    layers.MaxPooling2D((2, 2)),\n",
    "    layers.Dropout(0.3),\n",
    "    layers.Conv2D(64, (3, 3), activation='relu'),\n",
    "    layers.MaxPooling2D((2, 2)),\n",
    "    layers.Dropout(0.3),\n",
    "    layers.Flatten(),\n",
    "    layers.Dense(64, activation='relu'),\n",
    "    layers.Dense(10, activation='softmax')\n",
    "])"
   ]
  },
  {
   "cell_type": "code",
   "execution_count": 58,
   "id": "c0e43c60",
   "metadata": {},
   "outputs": [],
   "source": [
    "# Compile model\n",
    "model.compile(optimizer='adam',\n",
    "              loss='sparse_categorical_crossentropy',\n",
    "              metrics=['accuracy'])"
   ]
  },
  {
   "cell_type": "code",
   "execution_count": 61,
   "id": "f915d5af",
   "metadata": {},
   "outputs": [
    {
     "name": "stdout",
     "output_type": "stream",
     "text": [
      "Epoch 1/80\n",
      "336/336 [==============================] - 7s 21ms/step - loss: 0.7756 - accuracy: 0.7469 - val_loss: 0.2005 - val_accuracy: 0.9396\n",
      "Epoch 2/80\n",
      "336/336 [==============================] - 7s 22ms/step - loss: 0.2713 - accuracy: 0.9180 - val_loss: 0.1282 - val_accuracy: 0.9627\n",
      "Epoch 3/80\n",
      "336/336 [==============================] - 7s 20ms/step - loss: 0.2113 - accuracy: 0.9357 - val_loss: 0.1053 - val_accuracy: 0.9696\n",
      "Epoch 4/80\n",
      "336/336 [==============================] - 7s 20ms/step - loss: 0.1769 - accuracy: 0.9456 - val_loss: 0.0911 - val_accuracy: 0.9721\n",
      "Epoch 5/80\n",
      "336/336 [==============================] - 6s 19ms/step - loss: 0.1541 - accuracy: 0.9532 - val_loss: 0.0787 - val_accuracy: 0.9771\n",
      "Epoch 6/80\n",
      "336/336 [==============================] - 6s 19ms/step - loss: 0.1360 - accuracy: 0.9590 - val_loss: 0.0775 - val_accuracy: 0.9761\n",
      "Epoch 7/80\n",
      "336/336 [==============================] - 7s 21ms/step - loss: 0.1311 - accuracy: 0.9601 - val_loss: 0.0718 - val_accuracy: 0.9792\n",
      "Epoch 8/80\n",
      "336/336 [==============================] - 7s 20ms/step - loss: 0.1198 - accuracy: 0.9638 - val_loss: 0.0672 - val_accuracy: 0.9798\n",
      "Epoch 9/80\n",
      "336/336 [==============================] - 7s 19ms/step - loss: 0.1111 - accuracy: 0.9659 - val_loss: 0.0647 - val_accuracy: 0.9807\n",
      "Epoch 10/80\n",
      "336/336 [==============================] - 6s 19ms/step - loss: 0.1069 - accuracy: 0.9666 - val_loss: 0.0609 - val_accuracy: 0.9801\n",
      "Epoch 11/80\n",
      "336/336 [==============================] - 7s 22ms/step - loss: 0.1034 - accuracy: 0.9679 - val_loss: 0.0579 - val_accuracy: 0.9817\n",
      "Epoch 12/80\n",
      "336/336 [==============================] - 7s 20ms/step - loss: 0.1000 - accuracy: 0.9699 - val_loss: 0.0540 - val_accuracy: 0.9826\n",
      "Epoch 13/80\n",
      "336/336 [==============================] - 7s 21ms/step - loss: 0.0922 - accuracy: 0.9713 - val_loss: 0.0539 - val_accuracy: 0.9825\n",
      "Epoch 14/80\n",
      "336/336 [==============================] - 7s 20ms/step - loss: 0.0898 - accuracy: 0.9717 - val_loss: 0.0526 - val_accuracy: 0.9840\n",
      "Epoch 15/80\n",
      "336/336 [==============================] - 7s 21ms/step - loss: 0.0869 - accuracy: 0.9726 - val_loss: 0.0500 - val_accuracy: 0.9840\n",
      "Epoch 16/80\n",
      "336/336 [==============================] - 7s 20ms/step - loss: 0.0825 - accuracy: 0.9745 - val_loss: 0.0502 - val_accuracy: 0.9839\n",
      "Epoch 17/80\n",
      "336/336 [==============================] - 7s 20ms/step - loss: 0.0802 - accuracy: 0.9746 - val_loss: 0.0524 - val_accuracy: 0.9836\n",
      "Epoch 18/80\n",
      "336/336 [==============================] - 7s 20ms/step - loss: 0.0756 - accuracy: 0.9763 - val_loss: 0.0483 - val_accuracy: 0.9854\n",
      "Epoch 19/80\n",
      "336/336 [==============================] - 7s 21ms/step - loss: 0.0744 - accuracy: 0.9761 - val_loss: 0.0491 - val_accuracy: 0.9850\n",
      "Epoch 20/80\n",
      "336/336 [==============================] - 7s 22ms/step - loss: 0.0747 - accuracy: 0.9768 - val_loss: 0.0504 - val_accuracy: 0.9840\n",
      "Epoch 21/80\n",
      "336/336 [==============================] - 6s 19ms/step - loss: 0.0734 - accuracy: 0.9772 - val_loss: 0.0450 - val_accuracy: 0.9854\n",
      "Epoch 22/80\n",
      "336/336 [==============================] - 6s 19ms/step - loss: 0.0715 - accuracy: 0.9772 - val_loss: 0.0450 - val_accuracy: 0.9861\n",
      "Epoch 23/80\n",
      "336/336 [==============================] - 6s 19ms/step - loss: 0.0645 - accuracy: 0.9788 - val_loss: 0.0443 - val_accuracy: 0.9863\n",
      "Epoch 24/80\n",
      "336/336 [==============================] - 7s 20ms/step - loss: 0.0661 - accuracy: 0.9800 - val_loss: 0.0424 - val_accuracy: 0.9864\n",
      "Epoch 25/80\n",
      "336/336 [==============================] - 7s 20ms/step - loss: 0.0623 - accuracy: 0.9801 - val_loss: 0.0494 - val_accuracy: 0.9850\n",
      "Epoch 26/80\n",
      "336/336 [==============================] - 6s 19ms/step - loss: 0.0636 - accuracy: 0.9804 - val_loss: 0.0464 - val_accuracy: 0.9860\n",
      "Epoch 27/80\n",
      "336/336 [==============================] - 7s 19ms/step - loss: 0.0633 - accuracy: 0.9817 - val_loss: 0.0464 - val_accuracy: 0.9862\n",
      "Epoch 28/80\n",
      "336/336 [==============================] - 8s 24ms/step - loss: 0.0620 - accuracy: 0.9799 - val_loss: 0.0455 - val_accuracy: 0.9864\n",
      "Epoch 29/80\n",
      "336/336 [==============================] - 7s 21ms/step - loss: 0.0623 - accuracy: 0.9799 - val_loss: 0.0462 - val_accuracy: 0.9862\n",
      "Epoch 30/80\n",
      "336/336 [==============================] - 7s 20ms/step - loss: 0.0571 - accuracy: 0.9822 - val_loss: 0.0457 - val_accuracy: 0.9858\n",
      "Epoch 31/80\n",
      "336/336 [==============================] - 8s 24ms/step - loss: 0.0559 - accuracy: 0.9824 - val_loss: 0.0447 - val_accuracy: 0.9867\n",
      "Epoch 32/80\n",
      "336/336 [==============================] - 7s 20ms/step - loss: 0.0556 - accuracy: 0.9826 - val_loss: 0.0495 - val_accuracy: 0.9849\n",
      "Epoch 33/80\n",
      "336/336 [==============================] - 7s 20ms/step - loss: 0.0529 - accuracy: 0.9831 - val_loss: 0.0465 - val_accuracy: 0.9862\n",
      "Epoch 34/80\n",
      "336/336 [==============================] - 7s 20ms/step - loss: 0.0549 - accuracy: 0.9819 - val_loss: 0.0464 - val_accuracy: 0.9846\n"
     ]
    }
   ],
   "source": [
    "from tensorflow.keras import callbacks\n",
    "\n",
    "# Early stopping to prevent overfitting\n",
    "early_stopping = callbacks.EarlyStopping(monitor='val_loss', \n",
    "                                         patience=10, \n",
    "                                         restore_best_weights=True)\n",
    "\n",
    "# Fit model\n",
    "history = model.fit(train_X, train_y, \n",
    "                    batch_size=100,\n",
    "                    epochs=80, \n",
    "                    validation_data=(valid_X, valid_y),\n",
    "                    callbacks=[early_stopping])"
   ]
  },
  {
   "cell_type": "markdown",
   "id": "a52ce7bd",
   "metadata": {},
   "source": [
    "Create confusion matrix to evaluate model."
   ]
  },
  {
   "cell_type": "code",
   "execution_count": 65,
   "id": "61e6f9b2",
   "metadata": {},
   "outputs": [
    {
     "name": "stdout",
     "output_type": "stream",
     "text": [
      "263/263 [==============================] - 0s 2ms/step\n"
     ]
    },
    {
     "data": {
      "image/png": "[encoded data removed]",
      "text/plain": [
       "<Figure size 432x288 with 2 Axes>"
      ]
     },
     "metadata": {
      "needs_background": "light"
     },
     "output_type": "display_data"
    }
   ],
   "source": [
    "from sklearn.metrics import confusion_matrix, ConfusionMatrixDisplay\n",
    "import numpy as np\n",
    "\n",
    "# Predict on the validation set\n",
    "preds = model.predict(valid_X)\n",
    "preds = np.argmax(preds, axis=1)\n",
    "\n",
    "# Create confusion matrix\n",
    "cm = confusion_matrix(valid_y, preds)\n",
    "\n",
    "# Display the confusion matrix\n",
    "disp = ConfusionMatrixDisplay(confusion_matrix=cm, display_labels=np.arange(10))\n",
    "disp.plot(cmap=plt.cm.Blues)\n",
    "plt.show()"
   ]
  },
  {
   "cell_type": "markdown",
   "id": "00e74235",
   "metadata": {},
   "source": [
    "The model seems to perform fairly well on the validation data. It has a little trouble with 7s, 3s, 6s, 8s and 9s."
   ]
  },
  {
   "cell_type": "code",
   "execution_count": 67,
   "id": "3230a6aa",
   "metadata": {},
   "outputs": [
    {
     "name": "stdout",
     "output_type": "stream",
     "text": [
      "875/875 [==============================] - 1s 2ms/step\n"
     ]
    }
   ],
   "source": [
    "# Predict on test data\n",
    "test_preds = model.predict(test_X_3d)\n",
    "test_preds = np.argmax(test_preds,axis = 1)\n",
    "\n",
    "output = pd.DataFrame({\"ImageId\": range(1,28001),\n",
    "                       \"Label\": test_preds})"
   ]
  },
  {
   "cell_type": "code",
   "execution_count": 68,
   "id": "47693e67",
   "metadata": {},
   "outputs": [
    {
     "data": {
      "text/html": [
       "<div>\n",
       "<style scoped>\n",
       "    .dataframe tbody tr th:only-of-type {\n",
       "        vertical-align: middle;\n",
       "    }\n",
       "\n",
       "    .dataframe tbody tr th {\n",
       "        vertical-align: top;\n",
       "    }\n",
       "\n",
       "    .dataframe thead th {\n",
       "        text-align: right;\n",
       "    }\n",
       "</style>\n",
       "<table border=\"1\" class=\"dataframe\">\n",
       "  <thead>\n",
       "    <tr style=\"text-align: right;\">\n",
       "      <th></th>\n",
       "      <th>ImageId</th>\n",
       "      <th>Label</th>\n",
       "    </tr>\n",
       "  </thead>\n",
       "  <tbody>\n",
       "    <tr>\n",
       "      <th>0</th>\n",
       "      <td>1</td>\n",
       "      <td>2</td>\n",
       "    </tr>\n",
       "    <tr>\n",
       "      <th>1</th>\n",
       "      <td>2</td>\n",
       "      <td>0</td>\n",
       "    </tr>\n",
       "    <tr>\n",
       "      <th>2</th>\n",
       "      <td>3</td>\n",
       "      <td>9</td>\n",
       "    </tr>\n",
       "    <tr>\n",
       "      <th>3</th>\n",
       "      <td>4</td>\n",
       "      <td>9</td>\n",
       "    </tr>\n",
       "    <tr>\n",
       "      <th>4</th>\n",
       "      <td>5</td>\n",
       "      <td>3</td>\n",
       "    </tr>\n",
       "    <tr>\n",
       "      <th>...</th>\n",
       "      <td>...</td>\n",
       "      <td>...</td>\n",
       "    </tr>\n",
       "    <tr>\n",
       "      <th>27995</th>\n",
       "      <td>27996</td>\n",
       "      <td>9</td>\n",
       "    </tr>\n",
       "    <tr>\n",
       "      <th>27996</th>\n",
       "      <td>27997</td>\n",
       "      <td>7</td>\n",
       "    </tr>\n",
       "    <tr>\n",
       "      <th>27997</th>\n",
       "      <td>27998</td>\n",
       "      <td>3</td>\n",
       "    </tr>\n",
       "    <tr>\n",
       "      <th>27998</th>\n",
       "      <td>27999</td>\n",
       "      <td>9</td>\n",
       "    </tr>\n",
       "    <tr>\n",
       "      <th>27999</th>\n",
       "      <td>28000</td>\n",
       "      <td>2</td>\n",
       "    </tr>\n",
       "  </tbody>\n",
       "</table>\n",
       "<p>28000 rows × 2 columns</p>\n",
       "</div>"
      ],
      "text/plain": [
       "       ImageId  Label\n",
       "0            1      2\n",
       "1            2      0\n",
       "2            3      9\n",
       "3            4      9\n",
       "4            5      3\n",
       "...        ...    ...\n",
       "27995    27996      9\n",
       "27996    27997      7\n",
       "27997    27998      3\n",
       "27998    27999      9\n",
       "27999    28000      2\n",
       "\n",
       "[28000 rows x 2 columns]"
      ]
     },
     "execution_count": 68,
     "metadata": {},
     "output_type": "execute_result"
    }
   ],
   "source": [
    "output.to_csv('submission.csv', index=)\n",
    "output"
   ]
  },
  {
   "cell_type": "markdown",
   "id": "d27e7e67",
   "metadata": {},
   "source": [
    "This submission earned a score of 0.98646 accuracy."
   ]
  }
 ],
 "metadata": {
  "kernelspec": {
   "display_name": "Python 3 (ipykernel)",
   "language": "python",
   "name": "python3"
  },
  "language_info": {
   "codemirror_mode": {
    "name": "ipython",
    "version": 3
   },
   "file_extension": ".py",
   "mimetype": "text/x-python",
   "name": "python",
   "nbconvert_exporter": "python",
   "pygments_lexer": "ipython3",
   "version": "3.10.5"
  }
 },
 "nbformat": 4,
 "nbformat_minor": 5
}
